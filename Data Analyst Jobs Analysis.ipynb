{
 "cells": [
  {
   "cell_type": "code",
   "execution_count": 80,
   "metadata": {},
   "outputs": [],
   "source": [
    "import pandas as pd\n",
    "from pandas import read_csv\n",
    "from pandas.plotting import scatter_matrix\n",
    "from matplotlib import pyplot\n",
    "import matplotlib.pyplot as plt     \n",
    "import numpy as np                      \n",
    "from scipy.sparse import csr_matrix     \n",
    "%matplotlib inline"
   ]
  },
  {
   "cell_type": "code",
   "execution_count": 81,
   "metadata": {},
   "outputs": [],
   "source": [
    "csv_file = 'Downloads/Kaggle Sample Data/DataAnalystJobs.csv'\n",
    "names = ['Job Title', 'Salary Estimate', 'Rating', 'Company Name', 'Location', 'Headquarters', 'Size', 'Industry', 'Sector', 'Revenue' ]"
   ]
  },
  {
   "cell_type": "code",
   "execution_count": 82,
   "metadata": {},
   "outputs": [],
   "source": [
    "rawdata = read_csv(csv_file, names=names)"
   ]
  },
  {
   "cell_type": "code",
   "execution_count": 83,
   "metadata": {},
   "outputs": [
    {
     "data": {
      "text/html": [
       "<div>\n",
       "<style scoped>\n",
       "    .dataframe tbody tr th:only-of-type {\n",
       "        vertical-align: middle;\n",
       "    }\n",
       "\n",
       "    .dataframe tbody tr th {\n",
       "        vertical-align: top;\n",
       "    }\n",
       "\n",
       "    .dataframe thead th {\n",
       "        text-align: right;\n",
       "    }\n",
       "</style>\n",
       "<table border=\"1\" class=\"dataframe\">\n",
       "  <thead>\n",
       "    <tr style=\"text-align: right;\">\n",
       "      <th></th>\n",
       "      <th>Job Title</th>\n",
       "      <th>Salary Estimate</th>\n",
       "      <th>Rating</th>\n",
       "      <th>Company Name</th>\n",
       "      <th>Location</th>\n",
       "      <th>Headquarters</th>\n",
       "      <th>Size</th>\n",
       "      <th>Industry</th>\n",
       "      <th>Sector</th>\n",
       "      <th>Revenue</th>\n",
       "    </tr>\n",
       "  </thead>\n",
       "  <tbody>\n",
       "    <tr>\n",
       "      <th>0</th>\n",
       "      <td>Data Analyst, Center on Immigration and Justic...</td>\n",
       "      <td>$37K-$66K (Glassdoor est.)</td>\n",
       "      <td>3.2</td>\n",
       "      <td>Vera Institute of Justice\\n3.2</td>\n",
       "      <td>New York, NY</td>\n",
       "      <td>New York, NY</td>\n",
       "      <td>201 to 500 employees</td>\n",
       "      <td>Social Assistance</td>\n",
       "      <td>Non-Profit</td>\n",
       "      <td>$100 to $500 million (USD)</td>\n",
       "    </tr>\n",
       "    <tr>\n",
       "      <th>1</th>\n",
       "      <td>Quality Data Analyst</td>\n",
       "      <td>$37K-$66K (Glassdoor est.)</td>\n",
       "      <td>3.8</td>\n",
       "      <td>Visiting Nurse Service of New York\\n3.8</td>\n",
       "      <td>New York, NY</td>\n",
       "      <td>New York, NY</td>\n",
       "      <td>10000+ employees</td>\n",
       "      <td>Health Care Services &amp; Hospitals</td>\n",
       "      <td>Health Care</td>\n",
       "      <td>$2 to $5 billion (USD)</td>\n",
       "    </tr>\n",
       "    <tr>\n",
       "      <th>2</th>\n",
       "      <td>Senior Data Analyst, Insights &amp; Analytics Team...</td>\n",
       "      <td>$37K-$66K (Glassdoor est.)</td>\n",
       "      <td>3.4</td>\n",
       "      <td>Squarespace\\n3.4</td>\n",
       "      <td>New York, NY</td>\n",
       "      <td>New York, NY</td>\n",
       "      <td>1001 to 5000 employees</td>\n",
       "      <td>Internet</td>\n",
       "      <td>Information Technology</td>\n",
       "      <td>Unknown / Non-Applicable</td>\n",
       "    </tr>\n",
       "    <tr>\n",
       "      <th>3</th>\n",
       "      <td>Data Analyst</td>\n",
       "      <td>$37K-$66K (Glassdoor est.)</td>\n",
       "      <td>4.1</td>\n",
       "      <td>Celerity\\n4.1</td>\n",
       "      <td>New York, NY</td>\n",
       "      <td>McLean, VA</td>\n",
       "      <td>201 to 500 employees</td>\n",
       "      <td>IT Services</td>\n",
       "      <td>Information Technology</td>\n",
       "      <td>$50 to $100 million (USD)</td>\n",
       "    </tr>\n",
       "    <tr>\n",
       "      <th>4</th>\n",
       "      <td>Reporting Data Analyst</td>\n",
       "      <td>$37K-$66K (Glassdoor est.)</td>\n",
       "      <td>3.9</td>\n",
       "      <td>FanDuel\\n3.9</td>\n",
       "      <td>New York, NY</td>\n",
       "      <td>New York, NY</td>\n",
       "      <td>501 to 1000 employees</td>\n",
       "      <td>Sports &amp; Recreation</td>\n",
       "      <td>Arts, Entertainment &amp; Recreation</td>\n",
       "      <td>$100 to $500 million (USD)</td>\n",
       "    </tr>\n",
       "    <tr>\n",
       "      <th>5</th>\n",
       "      <td>Data Analyst</td>\n",
       "      <td>$37K-$66K (Glassdoor est.)</td>\n",
       "      <td>3.9</td>\n",
       "      <td>Point72\\n3.9</td>\n",
       "      <td>New York, NY</td>\n",
       "      <td>Stamford, CT</td>\n",
       "      <td>1001 to 5000 employees</td>\n",
       "      <td>Investment Banking &amp; Asset Management</td>\n",
       "      <td>Finance</td>\n",
       "      <td>Unknown / Non-Applicable</td>\n",
       "    </tr>\n",
       "    <tr>\n",
       "      <th>6</th>\n",
       "      <td>Business/Data Analyst (FP&amp;A)</td>\n",
       "      <td>$37K-$66K (Glassdoor est.)</td>\n",
       "      <td>4.4</td>\n",
       "      <td>Two Sigma\\n4.4</td>\n",
       "      <td>New York, NY</td>\n",
       "      <td>New York, NY</td>\n",
       "      <td>1001 to 5000 employees</td>\n",
       "      <td>Investment Banking &amp; Asset Management</td>\n",
       "      <td>Finance</td>\n",
       "      <td>Unknown / Non-Applicable</td>\n",
       "    </tr>\n",
       "    <tr>\n",
       "      <th>7</th>\n",
       "      <td>Data Science Analyst</td>\n",
       "      <td>$37K-$66K (Glassdoor est.)</td>\n",
       "      <td>3.7</td>\n",
       "      <td>GNY Insurance Companies\\n3.7</td>\n",
       "      <td>New York, NY</td>\n",
       "      <td>New York, NY</td>\n",
       "      <td>201 to 500 employees</td>\n",
       "      <td>Insurance Carriers</td>\n",
       "      <td>Insurance</td>\n",
       "      <td>$100 to $500 million (USD)</td>\n",
       "    </tr>\n",
       "    <tr>\n",
       "      <th>8</th>\n",
       "      <td>Data Analyst</td>\n",
       "      <td>$37K-$66K (Glassdoor est.)</td>\n",
       "      <td>4.0</td>\n",
       "      <td>DMGT\\n4.0</td>\n",
       "      <td>New York, NY</td>\n",
       "      <td>London, United Kingdom</td>\n",
       "      <td>5001 to 10000 employees</td>\n",
       "      <td>Venture Capital &amp; Private Equity</td>\n",
       "      <td>Finance</td>\n",
       "      <td>$1 to $2 billion (USD)</td>\n",
       "    </tr>\n",
       "    <tr>\n",
       "      <th>9</th>\n",
       "      <td>Data Analyst, Merchant Health</td>\n",
       "      <td>$37K-$66K (Glassdoor est.)</td>\n",
       "      <td>4.4</td>\n",
       "      <td>Riskified\\n4.4</td>\n",
       "      <td>New York, NY</td>\n",
       "      <td>New York, NY</td>\n",
       "      <td>501 to 1000 employees</td>\n",
       "      <td>Research &amp; Development</td>\n",
       "      <td>Business Services</td>\n",
       "      <td>Unknown / Non-Applicable</td>\n",
       "    </tr>\n",
       "  </tbody>\n",
       "</table>\n",
       "</div>"
      ],
      "text/plain": [
       "                                           Job Title  \\\n",
       "0  Data Analyst, Center on Immigration and Justic...   \n",
       "1                               Quality Data Analyst   \n",
       "2  Senior Data Analyst, Insights & Analytics Team...   \n",
       "3                                       Data Analyst   \n",
       "4                             Reporting Data Analyst   \n",
       "5                                       Data Analyst   \n",
       "6                       Business/Data Analyst (FP&A)   \n",
       "7                               Data Science Analyst   \n",
       "8                                       Data Analyst   \n",
       "9                      Data Analyst, Merchant Health   \n",
       "\n",
       "              Salary Estimate  Rating  \\\n",
       "0  $37K-$66K (Glassdoor est.)     3.2   \n",
       "1  $37K-$66K (Glassdoor est.)     3.8   \n",
       "2  $37K-$66K (Glassdoor est.)     3.4   \n",
       "3  $37K-$66K (Glassdoor est.)     4.1   \n",
       "4  $37K-$66K (Glassdoor est.)     3.9   \n",
       "5  $37K-$66K (Glassdoor est.)     3.9   \n",
       "6  $37K-$66K (Glassdoor est.)     4.4   \n",
       "7  $37K-$66K (Glassdoor est.)     3.7   \n",
       "8  $37K-$66K (Glassdoor est.)     4.0   \n",
       "9  $37K-$66K (Glassdoor est.)     4.4   \n",
       "\n",
       "                              Company Name      Location  \\\n",
       "0           Vera Institute of Justice\\n3.2  New York, NY   \n",
       "1  Visiting Nurse Service of New York\\n3.8  New York, NY   \n",
       "2                         Squarespace\\n3.4  New York, NY   \n",
       "3                            Celerity\\n4.1  New York, NY   \n",
       "4                             FanDuel\\n3.9  New York, NY   \n",
       "5                             Point72\\n3.9  New York, NY   \n",
       "6                           Two Sigma\\n4.4  New York, NY   \n",
       "7             GNY Insurance Companies\\n3.7  New York, NY   \n",
       "8                                DMGT\\n4.0  New York, NY   \n",
       "9                           Riskified\\n4.4  New York, NY   \n",
       "\n",
       "             Headquarters                     Size  \\\n",
       "0            New York, NY     201 to 500 employees   \n",
       "1            New York, NY         10000+ employees   \n",
       "2            New York, NY   1001 to 5000 employees   \n",
       "3              McLean, VA     201 to 500 employees   \n",
       "4            New York, NY    501 to 1000 employees   \n",
       "5            Stamford, CT   1001 to 5000 employees   \n",
       "6            New York, NY   1001 to 5000 employees   \n",
       "7            New York, NY     201 to 500 employees   \n",
       "8  London, United Kingdom  5001 to 10000 employees   \n",
       "9            New York, NY    501 to 1000 employees   \n",
       "\n",
       "                                Industry                            Sector  \\\n",
       "0                      Social Assistance                        Non-Profit   \n",
       "1       Health Care Services & Hospitals                       Health Care   \n",
       "2                               Internet            Information Technology   \n",
       "3                            IT Services            Information Technology   \n",
       "4                    Sports & Recreation  Arts, Entertainment & Recreation   \n",
       "5  Investment Banking & Asset Management                           Finance   \n",
       "6  Investment Banking & Asset Management                           Finance   \n",
       "7                     Insurance Carriers                         Insurance   \n",
       "8       Venture Capital & Private Equity                           Finance   \n",
       "9                 Research & Development                 Business Services   \n",
       "\n",
       "                      Revenue  \n",
       "0  $100 to $500 million (USD)  \n",
       "1      $2 to $5 billion (USD)  \n",
       "2    Unknown / Non-Applicable  \n",
       "3   $50 to $100 million (USD)  \n",
       "4  $100 to $500 million (USD)  \n",
       "5    Unknown / Non-Applicable  \n",
       "6    Unknown / Non-Applicable  \n",
       "7  $100 to $500 million (USD)  \n",
       "8      $1 to $2 billion (USD)  \n",
       "9    Unknown / Non-Applicable  "
      ]
     },
     "execution_count": 83,
     "metadata": {},
     "output_type": "execute_result"
    }
   ],
   "source": [
    "# Basic overview of the first 10 columns in the data file\n",
    "rawdata.head(10)"
   ]
  },
  {
   "cell_type": "code",
   "execution_count": 84,
   "metadata": {},
   "outputs": [
    {
     "data": {
      "text/plain": [
       "3.160630270750119"
      ]
     },
     "execution_count": 84,
     "metadata": {},
     "output_type": "execute_result"
    }
   ],
   "source": [
    "# Getting the average rating at a data science/analyst position\n",
    "rawdata[\"Rating\"].mean()"
   ]
  },
  {
   "cell_type": "code",
   "execution_count": 90,
   "metadata": {},
   "outputs": [
    {
     "data": {
      "image/png": "[encoded data removed]",
      "text/plain": [
       "<Figure size 432x288 with 1 Axes>"
      ]
     },
     "metadata": {
      "needs_background": "light"
     },
     "output_type": "display_data"
    }
   ],
   "source": [
    "chart = rawdata['Sector'].value_counts().plot(kind='bar', title=\"Common Sectors for Data Analyst Jobs\")\n",
    "chart.set_xlabel(\"Sector\")\n",
    "chart.set_ylabel(\"Count\")\n",
    "plt.show()"
   ]
  },
  {
   "cell_type": "code",
   "execution_count": 86,
   "metadata": {},
   "outputs": [
    {
     "data": {
      "text/plain": [
       "-1.0"
      ]
     },
     "execution_count": 86,
     "metadata": {},
     "output_type": "execute_result"
    }
   ],
   "source": [
    "# Minimum rating for a position. Note that a rating of -1 is assumed to be where no information was available\n",
    "rawdata['Rating'].min()"
   ]
  },
  {
   "cell_type": "code",
   "execution_count": 87,
   "metadata": {},
   "outputs": [
    {
     "data": {
      "text/plain": [
       "5.0"
      ]
     },
     "execution_count": 87,
     "metadata": {},
     "output_type": "execute_result"
    }
   ],
   "source": [
    "# Max rating of a position (out of 5)\n",
    "rawdata['Rating'].max()"
   ]
  },
  {
   "cell_type": "code",
   "execution_count": 70,
   "metadata": {},
   "outputs": [
    {
     "data": {
      "text/plain": [
       "Job Title          Data + Business Intelligence Analyst\n",
       "Salary Estimate              $37K-$66K (Glassdoor est.)\n",
       "Rating                                                5\n",
       "Company Name                              Duolingo\\n5.0\n",
       "Location                                   New York, NY\n",
       "Headquarters                             Pittsburgh, PA\n",
       "Size                               201 to 500 employees\n",
       "Industry                                       Internet\n",
       "Sector                           Information Technology\n",
       "Revenue                        $10 to $25 million (USD)\n",
       "Name: 26, dtype: object"
      ]
     },
     "execution_count": 70,
     "metadata": {},
     "output_type": "execute_result"
    }
   ],
   "source": [
    "# Information on the top rated data analyst job\n",
    "rawdata.loc[rawdata['Rating'].idxmax()]"
   ]
  },
  {
   "cell_type": "code",
   "execution_count": 88,
   "metadata": {},
   "outputs": [
    {
     "data": {
      "text/plain": [
       "Job Title                        Data Analyst\n",
       "Salary Estimate    $37K-$66K (Glassdoor est.)\n",
       "Rating                                     -1\n",
       "Company Name                         BulbHead\n",
       "Location                        Fairfield, NJ\n",
       "Headquarters                               -1\n",
       "Size                        1 to 50 employees\n",
       "Industry                                   -1\n",
       "Sector                                     -1\n",
       "Revenue              Unknown / Non-Applicable\n",
       "Name: 11, dtype: object"
      ]
     },
     "execution_count": 88,
     "metadata": {},
     "output_type": "execute_result"
    }
   ],
   "source": [
    "# Information on one of the lowest rated jobs\n",
    "rawdata.loc[rawdata['Rating'].idxmin()]\n",
    "\n",
    "# After interpreting this, we can see that it is just missing inputs "
   ]
  },
  {
   "cell_type": "code",
   "execution_count": 89,
   "metadata": {},
   "outputs": [
    {
     "name": "stdout",
     "output_type": "stream",
     "text": [
      "Sector\n",
      "-1                                    353\n",
      "Accounting & Legal                     43\n",
      "Aerospace & Defense                    22\n",
      "Arts, Entertainment & Recreation        7\n",
      "Biotech & Pharmaceuticals              33\n",
      "Business Services                     524\n",
      "Construction, Repair & Maintenance     16\n",
      "Consumer Services                      14\n",
      "Education                              52\n",
      "Finance                               169\n",
      "Government                             36\n",
      "Health Care                           151\n",
      "Information Technology                570\n",
      "Insurance                              51\n",
      "Manufacturing                          40\n",
      "Media                                  42\n",
      "Mining & Metals                         1\n",
      "Non-Profit                             26\n",
      "Oil, Gas, Energy & Utilities           13\n",
      "Real Estate                            12\n",
      "Restaurants, Bars & Food Services       8\n",
      "Retail                                 38\n",
      "Telecommunications                     11\n",
      "Transportation & Logistics             20\n",
      "Travel & Tourism                        1\n",
      "dtype: int64\n"
     ]
    }
   ],
   "source": [
    "# Counts of the different values in the 'Sector' column \n",
    "print(rawdata.groupby('Sector').size())\n",
    "\n",
    "# Note that sector '-1' simply means no information was reported "
   ]
  },
  {
   "cell_type": "code",
   "execution_count": 93,
   "metadata": {},
   "outputs": [
    {
     "name": "stdout",
     "output_type": "stream",
     "text": [
      "Industry\n",
      "-1                                         353\n",
      "IT Services                                325\n",
      "Staffing & Outsourcing                     323\n",
      "Health Care Services & Hospitals           151\n",
      "Computer Hardware & Software               111\n",
      "Consulting                                 111\n",
      "Investment Banking & Asset Management       78\n",
      "Enterprise Software & Network Solutions     69\n",
      "Internet                                    65\n",
      "Advertising & Marketing                     51\n",
      "dtype: int64\n"
     ]
    }
   ],
   "source": [
    "# Printing top 10 industries \n",
    "print(rawdata.groupby('Industry').size().nlargest(10))"
   ]
  },
  {
   "cell_type": "code",
   "execution_count": 95,
   "metadata": {},
   "outputs": [
    {
     "name": "stdout",
     "output_type": "stream",
     "text": [
      "Location\n",
      "New York, NY         310\n",
      "Chicago, IL          130\n",
      "San Francisco, CA    119\n",
      "Austin, TX            81\n",
      "Los Angeles, CA       80\n",
      "Charlotte, NC         78\n",
      "Houston, TX           72\n",
      "Dallas, TX            66\n",
      "San Diego, CA         62\n",
      "Philadelphia, PA      56\n",
      "dtype: int64\n"
     ]
    }
   ],
   "source": [
    "# Printing top 10 job locations \n",
    "print(rawdata.groupby('Location').size().nlargest(10))"
   ]
  },
  {
   "cell_type": "code",
   "execution_count": 100,
   "metadata": {},
   "outputs": [
    {
     "data": {
      "image/png": "[encoded data removed]",
      "text/plain": [
       "<Figure size 432x288 with 1 Axes>"
      ]
     },
     "metadata": {
      "needs_background": "light"
     },
     "output_type": "display_data"
    }
   ],
   "source": [
    "# Bar chart on the top 25 job locations \n",
    "chart2 = rawdata['Location'].value_counts().nlargest(25).plot(kind='bar', title=\"Top 25 Locations for Data Analyst Jobs\")\n",
    "chart2.set_xlabel(\"Location\")\n",
    "chart2.set_ylabel(\"Count\")\n",
    "plt.show()"
   ]
  },
  {
   "cell_type": "code",
   "execution_count": 112,
   "metadata": {},
   "outputs": [
    {
     "name": "stdout",
     "output_type": "stream",
     "text": [
      "Salary Estimate\n",
      "$41K-$78K (Glassdoor est.)    57\n",
      "$42K-$76K (Glassdoor est.)    57\n",
      "$50K-$86K (Glassdoor est.)    41\n",
      "$35K-$67K (Glassdoor est.)    33\n",
      "$43K-$76K (Glassdoor est.)    31\n",
      "dtype: int64\n"
     ]
    }
   ],
   "source": [
    "# Print out the top 5 occuring salary bracket to understand a sort of common/average pay \n",
    "common_pay = rawdata.groupby('Salary Estimate').size().nlargest(5)\n",
    "print(common_pay)"
   ]
  },
  {
   "cell_type": "code",
   "execution_count": 119,
   "metadata": {},
   "outputs": [
    {
     "name": "stdout",
     "output_type": "stream",
     "text": [
      "Size\n",
      "-1                         163\n",
      "1 to 50 employees          347\n",
      "10000+ employees           375\n",
      "1001 to 5000 employees     348\n",
      "201 to 500 employees       249\n",
      "5001 to 10000 employees     97\n",
      "501 to 1000 employees      211\n",
      "51 to 200 employees        421\n",
      "Unknown                     42\n",
      "dtype: int64\n"
     ]
    }
   ],
   "source": [
    "print(rawdata.groupby('Size').size())"
   ]
  },
  {
   "cell_type": "code",
   "execution_count": 121,
   "metadata": {},
   "outputs": [
    {
     "data": {
      "image/png": "[encoded data removed]",
      "text/plain": [
       "<Figure size 432x288 with 1 Axes>"
      ]
     },
     "metadata": {
      "needs_background": "light"
     },
     "output_type": "display_data"
    }
   ],
   "source": [
    "# Breakdown of company size \n",
    "chart3 = rawdata['Size'].value_counts().plot(kind='bar', title=\"Top 25 Locations for Data Analyst Jobs\")\n",
    "chart3.set_xlabel(\"Location\")\n",
    "chart3.set_ylabel(\"Count\")\n",
    "plt.show()"
   ]
  },
  {
   "cell_type": "code",
   "execution_count": 141,
   "metadata": {},
   "outputs": [
    {
     "data": {
      "image/png": "[encoded data removed]",
      "text/plain": [
       "<Figure size 432x288 with 1 Axes>"
      ]
     },
     "metadata": {},
     "output_type": "display_data"
    }
   ],
   "source": [
    "# Breakdown of Company Size \n",
    "frequency = rawdata.groupby([\"Size\"]).size()\n",
    "plt.pie(frequency, labels=sums.index, autopct='%1.1f%%', shadow=True, startangle=140)\n",
    "plt.title(\"Breakdown of Company Size\")\n",
    "plt.axis('equal')\n",
    "plt.show()"
   ]
  },
  {
   "cell_type": "code",
   "execution_count": 143,
   "metadata": {},
   "outputs": [
    {
     "data": {
      "text/html": [
       "<div>\n",
       "<style scoped>\n",
       "    .dataframe tbody tr th:only-of-type {\n",
       "        vertical-align: middle;\n",
       "    }\n",
       "\n",
       "    .dataframe tbody tr th {\n",
       "        vertical-align: top;\n",
       "    }\n",
       "\n",
       "    .dataframe thead th {\n",
       "        text-align: right;\n",
       "    }\n",
       "</style>\n",
       "<table border=\"1\" class=\"dataframe\">\n",
       "  <thead>\n",
       "    <tr style=\"text-align: right;\">\n",
       "      <th></th>\n",
       "      <th>Job Title</th>\n",
       "      <th>Salary Estimate</th>\n",
       "      <th>Rating</th>\n",
       "      <th>Company Name</th>\n",
       "      <th>Location</th>\n",
       "      <th>Headquarters</th>\n",
       "      <th>Size</th>\n",
       "      <th>Industry</th>\n",
       "      <th>Sector</th>\n",
       "      <th>Revenue</th>\n",
       "    </tr>\n",
       "  </thead>\n",
       "  <tbody>\n",
       "    <tr>\n",
       "      <th>0</th>\n",
       "      <td>Data Analyst, Center on Immigration and Justic...</td>\n",
       "      <td>$37K-$66K (Glassdoor est.)</td>\n",
       "      <td>3.2</td>\n",
       "      <td>Vera Institute of Justice\\n3.2</td>\n",
       "      <td>New York, NY</td>\n",
       "      <td>New York, NY</td>\n",
       "      <td>201 to 500 employees</td>\n",
       "      <td>Social Assistance</td>\n",
       "      <td>Non-Profit</td>\n",
       "      <td>$100 to $500 million (USD)</td>\n",
       "    </tr>\n",
       "    <tr>\n",
       "      <th>1</th>\n",
       "      <td>Quality Data Analyst</td>\n",
       "      <td>$37K-$66K (Glassdoor est.)</td>\n",
       "      <td>3.8</td>\n",
       "      <td>Visiting Nurse Service of New York\\n3.8</td>\n",
       "      <td>New York, NY</td>\n",
       "      <td>New York, NY</td>\n",
       "      <td>10000+ employees</td>\n",
       "      <td>Health Care Services &amp; Hospitals</td>\n",
       "      <td>Health Care</td>\n",
       "      <td>$2 to $5 billion (USD)</td>\n",
       "    </tr>\n",
       "    <tr>\n",
       "      <th>2</th>\n",
       "      <td>Senior Data Analyst, Insights &amp; Analytics Team...</td>\n",
       "      <td>$37K-$66K (Glassdoor est.)</td>\n",
       "      <td>3.4</td>\n",
       "      <td>Squarespace\\n3.4</td>\n",
       "      <td>New York, NY</td>\n",
       "      <td>New York, NY</td>\n",
       "      <td>1001 to 5000 employees</td>\n",
       "      <td>Internet</td>\n",
       "      <td>Information Technology</td>\n",
       "      <td>Unknown / Non-Applicable</td>\n",
       "    </tr>\n",
       "    <tr>\n",
       "      <th>3</th>\n",
       "      <td>Data Analyst</td>\n",
       "      <td>$37K-$66K (Glassdoor est.)</td>\n",
       "      <td>4.1</td>\n",
       "      <td>Celerity\\n4.1</td>\n",
       "      <td>New York, NY</td>\n",
       "      <td>McLean, VA</td>\n",
       "      <td>201 to 500 employees</td>\n",
       "      <td>IT Services</td>\n",
       "      <td>Information Technology</td>\n",
       "      <td>$50 to $100 million (USD)</td>\n",
       "    </tr>\n",
       "    <tr>\n",
       "      <th>4</th>\n",
       "      <td>Reporting Data Analyst</td>\n",
       "      <td>$37K-$66K (Glassdoor est.)</td>\n",
       "      <td>3.9</td>\n",
       "      <td>FanDuel\\n3.9</td>\n",
       "      <td>New York, NY</td>\n",
       "      <td>New York, NY</td>\n",
       "      <td>501 to 1000 employees</td>\n",
       "      <td>Sports &amp; Recreation</td>\n",
       "      <td>Arts, Entertainment &amp; Recreation</td>\n",
       "      <td>$100 to $500 million (USD)</td>\n",
       "    </tr>\n",
       "    <tr>\n",
       "      <th>...</th>\n",
       "      <td>...</td>\n",
       "      <td>...</td>\n",
       "      <td>...</td>\n",
       "      <td>...</td>\n",
       "      <td>...</td>\n",
       "      <td>...</td>\n",
       "      <td>...</td>\n",
       "      <td>...</td>\n",
       "      <td>...</td>\n",
       "      <td>...</td>\n",
       "    </tr>\n",
       "    <tr>\n",
       "      <th>2248</th>\n",
       "      <td>RQS - IHHA - 201900004460 -1q Data Security An...</td>\n",
       "      <td>$78K-$104K (Glassdoor est.)</td>\n",
       "      <td>2.5</td>\n",
       "      <td>Avacend, Inc.\\n2.5</td>\n",
       "      <td>Denver, CO</td>\n",
       "      <td>Alpharetta, GA</td>\n",
       "      <td>51 to 200 employees</td>\n",
       "      <td>Staffing &amp; Outsourcing</td>\n",
       "      <td>Business Services</td>\n",
       "      <td>Unknown / Non-Applicable</td>\n",
       "    </tr>\n",
       "    <tr>\n",
       "      <th>2249</th>\n",
       "      <td>Senior Data Analyst (Corporate Audit)</td>\n",
       "      <td>$78K-$104K (Glassdoor est.)</td>\n",
       "      <td>2.9</td>\n",
       "      <td>Arrow Electronics\\n2.9</td>\n",
       "      <td>Centennial, CO</td>\n",
       "      <td>Centennial, CO</td>\n",
       "      <td>10000+ employees</td>\n",
       "      <td>Wholesale</td>\n",
       "      <td>Business Services</td>\n",
       "      <td>$10+ billion (USD)</td>\n",
       "    </tr>\n",
       "    <tr>\n",
       "      <th>2250</th>\n",
       "      <td>Technical Business Analyst (SQL, Data analytic...</td>\n",
       "      <td>$78K-$104K (Glassdoor est.)</td>\n",
       "      <td>-1.0</td>\n",
       "      <td>Spiceorb</td>\n",
       "      <td>Denver, CO</td>\n",
       "      <td>-1</td>\n",
       "      <td>-1</td>\n",
       "      <td>-1</td>\n",
       "      <td>-1</td>\n",
       "      <td>-1</td>\n",
       "    </tr>\n",
       "    <tr>\n",
       "      <th>2251</th>\n",
       "      <td>Data Analyst 3, Customer Experience</td>\n",
       "      <td>$78K-$104K (Glassdoor est.)</td>\n",
       "      <td>3.1</td>\n",
       "      <td>Contingent Network Services\\n3.1</td>\n",
       "      <td>Centennial, CO</td>\n",
       "      <td>West Chester, OH</td>\n",
       "      <td>201 to 500 employees</td>\n",
       "      <td>Enterprise Software &amp; Network Solutions</td>\n",
       "      <td>Information Technology</td>\n",
       "      <td>$25 to $50 million (USD)</td>\n",
       "    </tr>\n",
       "    <tr>\n",
       "      <th>2252</th>\n",
       "      <td>Senior Quality Data Analyst</td>\n",
       "      <td>$78K-$104K (Glassdoor est.)</td>\n",
       "      <td>3.4</td>\n",
       "      <td>SCL Health\\n3.4</td>\n",
       "      <td>Broomfield, CO</td>\n",
       "      <td>Broomfield, CO</td>\n",
       "      <td>10000+ employees</td>\n",
       "      <td>Health Care Services &amp; Hospitals</td>\n",
       "      <td>Health Care</td>\n",
       "      <td>$2 to $5 billion (USD)</td>\n",
       "    </tr>\n",
       "  </tbody>\n",
       "</table>\n",
       "<p>2253 rows × 10 columns</p>\n",
       "</div>"
      ],
      "text/plain": [
       "                                              Job Title  \\\n",
       "0     Data Analyst, Center on Immigration and Justic...   \n",
       "1                                  Quality Data Analyst   \n",
       "2     Senior Data Analyst, Insights & Analytics Team...   \n",
       "3                                          Data Analyst   \n",
       "4                                Reporting Data Analyst   \n",
       "...                                                 ...   \n",
       "2248  RQS - IHHA - 201900004460 -1q Data Security An...   \n",
       "2249              Senior Data Analyst (Corporate Audit)   \n",
       "2250  Technical Business Analyst (SQL, Data analytic...   \n",
       "2251                Data Analyst 3, Customer Experience   \n",
       "2252                        Senior Quality Data Analyst   \n",
       "\n",
       "                  Salary Estimate  Rating  \\\n",
       "0      $37K-$66K (Glassdoor est.)     3.2   \n",
       "1      $37K-$66K (Glassdoor est.)     3.8   \n",
       "2      $37K-$66K (Glassdoor est.)     3.4   \n",
       "3      $37K-$66K (Glassdoor est.)     4.1   \n",
       "4      $37K-$66K (Glassdoor est.)     3.9   \n",
       "...                           ...     ...   \n",
       "2248  $78K-$104K (Glassdoor est.)     2.5   \n",
       "2249  $78K-$104K (Glassdoor est.)     2.9   \n",
       "2250  $78K-$104K (Glassdoor est.)    -1.0   \n",
       "2251  $78K-$104K (Glassdoor est.)     3.1   \n",
       "2252  $78K-$104K (Glassdoor est.)     3.4   \n",
       "\n",
       "                                 Company Name        Location  \\\n",
       "0              Vera Institute of Justice\\n3.2    New York, NY   \n",
       "1     Visiting Nurse Service of New York\\n3.8    New York, NY   \n",
       "2                            Squarespace\\n3.4    New York, NY   \n",
       "3                               Celerity\\n4.1    New York, NY   \n",
       "4                                FanDuel\\n3.9    New York, NY   \n",
       "...                                       ...             ...   \n",
       "2248                       Avacend, Inc.\\n2.5      Denver, CO   \n",
       "2249                   Arrow Electronics\\n2.9  Centennial, CO   \n",
       "2250                                 Spiceorb      Denver, CO   \n",
       "2251         Contingent Network Services\\n3.1  Centennial, CO   \n",
       "2252                          SCL Health\\n3.4  Broomfield, CO   \n",
       "\n",
       "          Headquarters                    Size  \\\n",
       "0         New York, NY    201 to 500 employees   \n",
       "1         New York, NY        10000+ employees   \n",
       "2         New York, NY  1001 to 5000 employees   \n",
       "3           McLean, VA    201 to 500 employees   \n",
       "4         New York, NY   501 to 1000 employees   \n",
       "...                ...                     ...   \n",
       "2248    Alpharetta, GA     51 to 200 employees   \n",
       "2249    Centennial, CO        10000+ employees   \n",
       "2250                -1                      -1   \n",
       "2251  West Chester, OH    201 to 500 employees   \n",
       "2252    Broomfield, CO        10000+ employees   \n",
       "\n",
       "                                     Industry  \\\n",
       "0                           Social Assistance   \n",
       "1            Health Care Services & Hospitals   \n",
       "2                                    Internet   \n",
       "3                                 IT Services   \n",
       "4                         Sports & Recreation   \n",
       "...                                       ...   \n",
       "2248                   Staffing & Outsourcing   \n",
       "2249                                Wholesale   \n",
       "2250                                       -1   \n",
       "2251  Enterprise Software & Network Solutions   \n",
       "2252         Health Care Services & Hospitals   \n",
       "\n",
       "                                Sector                     Revenue  \n",
       "0                           Non-Profit  $100 to $500 million (USD)  \n",
       "1                          Health Care      $2 to $5 billion (USD)  \n",
       "2               Information Technology    Unknown / Non-Applicable  \n",
       "3               Information Technology   $50 to $100 million (USD)  \n",
       "4     Arts, Entertainment & Recreation  $100 to $500 million (USD)  \n",
       "...                                ...                         ...  \n",
       "2248                 Business Services    Unknown / Non-Applicable  \n",
       "2249                 Business Services          $10+ billion (USD)  \n",
       "2250                                -1                          -1  \n",
       "2251            Information Technology    $25 to $50 million (USD)  \n",
       "2252                       Health Care      $2 to $5 billion (USD)  \n",
       "\n",
       "[2253 rows x 10 columns]"
      ]
     },
     "execution_count": 143,
     "metadata": {},
     "output_type": "execute_result"
    }
   ],
   "source": [
    "rawdata"
   ]
  },
  {
   "cell_type": "code",
   "execution_count": 145,
   "metadata": {},
   "outputs": [],
   "source": [
    "New_York = rawdata[rawdata.Location == 'New York, NY']"
   ]
  },
  {
   "cell_type": "code",
   "execution_count": 151,
   "metadata": {},
   "outputs": [
    {
     "data": {
      "image/png": "[encoded data removed]",
      "text/plain": [
       "<Figure size 432x288 with 1 Axes>"
      ]
     },
     "metadata": {},
     "output_type": "display_data"
    }
   ],
   "source": [
    "# Pie chart of company sizes \n",
    "frequency2 = New_York.groupby([\"Size\"]).size()\n",
    "plt.pie(frequency2, labels=sums.index, autopct='%1.1f%%', shadow=True, startangle=140)\n",
    "plt.title(\"Breakdown of Company Size in New York for Data Analyst Jobs\")\n",
    "plt.axis('equal')\n",
    "plt.show()"
   ]
  },
  {
   "cell_type": "code",
   "execution_count": 153,
   "metadata": {},
   "outputs": [
    {
     "name": "stdout",
     "output_type": "stream",
     "text": [
      "Company Name\n",
      "Staffigo Technical Services, LLC\\n5.0    58\n",
      "Diverse Lynx\\n3.9                        22\n",
      "Kforce\\n4.1                              19\n",
      "Lorven Technologies Inc\\n4.0             19\n",
      "Robert Half\\n3.5                         14\n",
      "Avacend, Inc.\\n2.5                       13\n",
      "Mondo\\n3.9                               11\n",
      "Apex Systems\\n3.8                        10\n",
      "Apple\\n4.1                               10\n",
      "eTeam Inc.\\n3.7                          10\n",
      "dtype: int64\n"
     ]
    }
   ],
   "source": [
    "# List of the top 10 companies that employ data analysts according to this survey \n",
    "print(rawdata.groupby('Company Name').size().nlargest(10))"
   ]
  },
  {
   "cell_type": "code",
   "execution_count": 155,
   "metadata": {},
   "outputs": [
    {
     "name": "stdout",
     "output_type": "stream",
     "text": [
      "Company Name\n",
      "Reliable Software Resources\\n4.0         8\n",
      "Diverse Lynx\\n3.9                        6\n",
      "Perficient\\n3.6                          5\n",
      "Praescient Analytics\\n3.1                5\n",
      "Mount Sinai Medical Center\\n3.1          4\n",
      "NYU Langone Health\\n4.0                  4\n",
      "Staffigo Technical Services, LLC\\n5.0    4\n",
      "Citi\\n3.7                                3\n",
      "Lorven Technologies Inc\\n4.0             3\n",
      "Mount Sinai Health System\\n3.4           3\n",
      "dtype: int64\n"
     ]
    }
   ],
   "source": [
    "# Top 10 companies that employ data analaysts in New York according to this survey \n",
    "print(New_York.groupby('Company Name').size().nlargest(10))"
   ]
  },
  {
   "cell_type": "code",
   "execution_count": 163,
   "metadata": {},
   "outputs": [
    {
     "name": "stdout",
     "output_type": "stream",
     "text": [
      "3.1416129032258064\n",
      "3.160630270750119\n"
     ]
    }
   ],
   "source": [
    "# Comparing New York's rating with the entire data\n",
    "print(New_York[\"Rating\"].mean())\n",
    "print(rawdata[\"Rating\"].mean())"
   ]
  },
  {
   "cell_type": "code",
   "execution_count": 169,
   "metadata": {},
   "outputs": [
    {
     "name": "stdout",
     "output_type": "stream",
     "text": [
      "Job Title\n",
      "Data Analyst               405\n",
      "Senior Data Analyst         90\n",
      "Junior Data Analyst         30\n",
      "Business Data Analyst       28\n",
      "Sr. Data Analyst            21\n",
      "Data Analyst II             17\n",
      "Data Analyst Junior         17\n",
      "Data Quality Analyst        17\n",
      "Data Governance Analyst     16\n",
      "Lead Data Analyst           15\n",
      "dtype: int64\n"
     ]
    }
   ],
   "source": [
    "# Job titles that were used for this data file \n",
    "titles = rawdata.groupby('Job Title').size().nlargest(10)\n",
    "print(titles)"
   ]
  },
  {
   "cell_type": "code",
   "execution_count": 175,
   "metadata": {},
   "outputs": [
    {
     "name": "stdout",
     "output_type": "stream",
     "text": [
      "Revenue\n",
      "$1 to $2 billion (USD)               87\n",
      "$1 to $5 million (USD)              111\n",
      "$10 to $25 million (USD)            132\n",
      "$10+ billion (USD)                  189\n",
      "$100 to $500 million (USD)          218\n",
      "$2 to $5 billion (USD)              129\n",
      "$25 to $50 million (USD)            110\n",
      "$5 to $10 billion (USD)              56\n",
      "$5 to $10 million (USD)              72\n",
      "$50 to $100 million (USD)           199\n",
      "$500 million to $1 billion (USD)     79\n",
      "-1                                  163\n",
      "Less than $1 million (USD)           93\n",
      "Unknown / Non-Applicable            615\n",
      "dtype: int64\n"
     ]
    }
   ],
   "source": [
    "# Table of company revenue yearly \n",
    "print(rawdata.groupby('Revenue').size())"
   ]
  },
  {
   "cell_type": "code",
   "execution_count": 176,
   "metadata": {},
   "outputs": [
    {
     "data": {
      "image/png": "[encoded data removed]",
      "text/plain": [
       "<Figure size 432x288 with 1 Axes>"
      ]
     },
     "metadata": {
      "needs_background": "light"
     },
     "output_type": "display_data"
    }
   ],
   "source": [
    "# Breakdown of company revenue \n",
    "chart4 = rawdata['Revenue'].value_counts().plot(kind='bar', title=\"Yearly Revenue of Companies\")\n",
    "chart4.set_xlabel(\"Revenue\")\n",
    "chart4.set_ylabel(\"Count\")\n",
    "plt.show()"
   ]
  }
 ],
 "metadata": {
  "kernelspec": {
   "display_name": "Python 3",
   "language": "python",
   "name": "python3"
  },
  "language_info": {
   "codemirror_mode": {
    "name": "ipython",
    "version": 3
   },
   "file_extension": ".py",
   "mimetype": "text/x-python",
   "name": "python",
   "nbconvert_exporter": "python",
   "pygments_lexer": "ipython3",
   "version": "3.8.3"
  }
 },
 "nbformat": 4,
 "nbformat_minor": 4
}
